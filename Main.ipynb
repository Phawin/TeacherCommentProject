{
 "cells": [
  {
   "cell_type": "code",
   "execution_count": 0,
   "metadata": {
    "collapsed": false
   },
   "outputs": [
   ],
   "source": [
   ]
  },
  {
   "cell_type": "markdown",
   "metadata": {
    "collapsed": false
   },
   "source": [
    "# Main File"
   ]
  },
  {
   "cell_type": "markdown",
   "metadata": {
    "collapsed": false
   },
   "source": [
    "### Read CSV File and Store in Memory"
   ]
  },
  {
   "cell_type": "code",
   "execution_count": 1,
   "metadata": {
    "collapsed": false
   },
   "outputs": [
    {
     "name": "stdout",
     "output_type": "stream",
     "text": [
      "['Chris', 'AP BC Calculus', 'he', 'his', '4', '', '2', '3', '', 'skydiving project', '100%', 'final assessment', '98%', '1,2,3', '', 'Chris grasps the material and always strives to better his understanding.', 'A']\n",
      "['Selin', 'AP BC Calculus', 'she', 'her', '4', '', '2', '3', '', 'skydiving project', '100%', 'final assessment', '99%', '3,6,8', '', \"Selin's mathematical skills continue to impress me.\", 'A']\n",
      "['Winner', 'AP BC Calculus', 'he', 'his', '4', '', '2', '3', '', '', '', 'final assessment', '99%', '1,4,7', '', \"It is clear that Winter's mind is built for complex mathematics.\", 'A']\n",
      "['Kendrick', 'Algebra 2', 'he', 'his', '1', '', '2', '1', '', '', '', 'final assessment', '64%', '3,5,2', '', 'Kendrick tries his hardest, but struggles to grasp some of the topics we covered.', 'C-']\n",
      "['Name', 'course', 'pronoun', 'posessive', 'opening scale', 'opening other', 'semester', 'improvement', 'improvement other', 'project/test', 'project/test grade', 'final assessment', 'assessment grade', 'attributes', 'attributes other', 'pre-closing sentence', 'final grade']\n"
     ]
    }
   ],
   "source": [
    "import csv\n",
    "students = []\n",
    "with open('drugan_students.csv', \"r\") as doc:\n",
    "    data = csv.reader(doc, delimiter = \",\")\n",
    "    header = next(data, None)\n",
    "    for line in data:\n",
    "        students.append(line) #Store in \"student\" list for future use\n",
    "        print(line)\n",
    "print(header)"
   ]
  },
  {
   "cell_type": "markdown",
   "metadata": {
    "collapsed": false
   },
   "source": [
    "### Opening Sentence"
   ]
  },
  {
   "cell_type": "code",
   "execution_count": 2,
   "metadata": {
    "collapsed": false
   },
   "outputs": [
    {
     "name": "stdout",
     "output_type": "stream",
     "text": [
      "Chris continues to do excellent work in AP BC Calculus.\n"
     ]
    }
   ],
   "source": [
    "openings = ['just fine', 'enthusiastic and attentive work','good work', 'excellent work']\n",
    "def opening(name, course, scale, semester, other):\n",
    "    if other.strip() and scale == 0:\n",
    "        return(other)\n",
    "    else:\n",
    "        if int(semester) == 1:\n",
    "            return '{} is doing {} in {}.'.format(name, openings[int(scale)-1], course)\n",
    "        else:\n",
    "            return '{} continues to do {} in {}.'.format(name, openings[int(scale)-1], course)\n",
    "print(opening(students[0][0], students[0][1], students[0][4], students[0][6], students[0][5]))"
   ]
  },
  {
   "cell_type": "markdown",
   "metadata": {
    "collapsed": false
   },
   "source": [
    "### Attribute List\n",
    "This function will take student's name, preferred pronoun, and list of argument. \n",
    "\n",
    "This function will return a string."
   ]
  },
  {
   "cell_type": "code",
   "execution_count": 3,
   "metadata": {
    "collapsed": false
   },
   "outputs": [
    {
     "name": "stdout",
     "output_type": "stream",
     "text": [
      "She is an active participant in class, her mathematical writing is clear and organized, she is an attentive student, she comes to class prepared, and she works well with other students.\n"
     ]
    }
   ],
   "source": [
    "attList = {} # This Dictionary store \"Format\" of each attribute, which you may add some more here\n",
    "attList[1] = \"[PRONOUN] comes to class prepared\"\n",
    "attList[2] = \"[PRONOUN] is an active participant in class\"\n",
    "attList[3] = \"[PRONOUN] works well with other students\"\n",
    "attList[4] = \"[POSSESSIVE] mathematical writing is clear and organized\"\n",
    "attList[5] = \"[PRONOUN] is an attentive student\"\n",
    "attList[6] = \"[PRONOUN] is an engaged student\"\n",
    "attList[7] = \"[PRONOUN] is the best student I have seen in my life\"\n",
    "attList[8] = \"[POSSESSIVE] homework is well written\"\n",
    "# TODO: Add More\n",
    "\n",
    "\n",
    "def genAttribute(name,pronoun,possessive,numberString,optional):\n",
    "    lst = numberString.split(\",\")\n",
    "    ret = \"\"\n",
    "    attList[0] = optional\n",
    "    for i in range(len(lst)):\n",
    "        idx = int(lst[i])\n",
    "        cur = attList[idx]\n",
    "        cur = cur.replace(\"[PRONOUN]\",pronoun)\n",
    "        cur = cur.replace(\"[NAME]\",name)\n",
    "        cur = cur.replace(\"[POSSESSIVE]\",possessive)\n",
    "        if(i==len(lst)-1):\n",
    "            ret+= \"and \"+cur+\".\"\n",
    "        else:\n",
    "            ret+= cur+\", \"\n",
    "    ret = ret[0].title()+ret[1::]\n",
    "    return ret.strip()\n",
    "    \n",
    "# Test\n",
    "print(genAttribute(\"Selin\",\"she\",\"her\",\"2,4,5,1,3\",\"SUCK!\"))"
   ]
  },
  {
   "cell_type": "markdown",
   "metadata": {
    "collapsed": false
   },
   "source": [
    "### Improvement"
   ]
  },
  {
   "cell_type": "code",
   "execution_count": 4,
   "metadata": {
    "collapsed": false
   },
   "outputs": [
    {
     "name": "stdout",
     "output_type": "stream",
     "text": [
      "Kendrick has not made the changes I suggested last semester. He should attempt to make these changes in the future to further his academic career.\n"
     ]
    }
   ],
   "source": [
    "improvement_scale = {'1':\"{name} has not made the changes I suggested last semester. {pronoun} should attempt to make these changes in the future to further {possessive} academic career.\", '2':\"{name} made the changes I suggested after the first semester and shows great improvement.\", '3':\"{name} did not need to make changes from last semester and continues to show success.\"}\n",
    "#The improvement scale variable is a dictionary whose key's are the number of the scale and whose values are the sentence structures\n",
    "def improvement(scale, student): #Pass the improvement sentence function a dictionary of possible sentences and a student\n",
    "    imp = student[7]\n",
    "    if imp == 0:#check if the free response option was chosen\n",
    "        message = student[8]#if free response, then use the 8th index as the improvement sentence\n",
    "    else:\n",
    "        message = scale[imp].format(name = student[0], pronoun = student[2].title(), possessive = student[3])\n",
    "        #use the correct sentence based on the improvement scale\n",
    "        return(message)\n",
    "print(improvement(improvement_scale, students[-1]))"
   ]
  },
  {
   "cell_type": "markdown",
   "metadata": {
    "collapsed": false
   },
   "source": [
    "### Assessment"
   ]
  },
  {
   "cell_type": "code",
   "execution_count": 5,
   "metadata": {
    "collapsed": false
   },
   "outputs": [
    {
     "name": "stdout",
     "output_type": "stream",
     "text": [
      "On the Kanye project, Selin earned 31.4%.\n",
      "He earned 0.01% on the proof writing exam.\n"
     ]
    }
   ],
   "source": [
    "assessmentPattern = {}\n",
    "assessmentPattern[1] = \"On the [ASSESSMENT], [NAME] earned [GRADE].\"\n",
    "assessmentPattern[2] = \"[CAP-PRONOUN] earned [GRADE] on the [ASSESSMENT].\"\n",
    "#You may add more \"Regular Expression\" here\n",
    "\n",
    "def genAssessmentComment(name,pronoun,assessmentName,grade,patternId):\n",
    "    if(not patternId in assessmentPattern):\n",
    "        patternId = 1 #Just In case that user give \"waste\" number\n",
    "    ret = assessmentPattern[patternId]\n",
    "    ret = ret.replace(\"[ASSESSMENT]\",assessmentName)\n",
    "    ret = ret.replace(\"[GRADE]\",grade)\n",
    "    ret = ret.replace(\"[NAME]\",name)\n",
    "    ret = ret.replace(\"[CAP-PRONOUN]\",pronoun.title())\n",
    "    return ret\n",
    "\n",
    "#Test Function\n",
    "print(genAssessmentComment(\"Selin\",\"she\",\"Kanye project\",\"31.4%\",1))\n",
    "print(genAssessmentComment(\"Andrew\",\"he\",\"proof writing exam\",\"0.01%\",2))"
   ]
  },
  {
   "cell_type": "markdown",
   "metadata": {
    "collapsed": false
   },
   "source": [
    "### Pre-Closing"
   ]
  },
  {
   "cell_type": "code",
   "execution_count": 6,
   "metadata": {
    "collapsed": false
   },
   "outputs": [
    {
     "name": "stdout",
     "output_type": "stream",
     "text": [
      "['Kendrick', 'Algebra 2', 'he', 'his', '1', '', '2', '1', '', '', '', 'final assessment', '64%', '3,5,2', '', 'Kendrick tries his hardest, but struggles to grasp some of the topics we covered.', 'C-']\n"
     ]
    }
   ],
   "source": [
    "def pre_closing(student):#function takes in a student and returns the pre-closing sentence\n",
    "    return(student[-2])\n",
    "print(students[-1])"
   ]
  },
  {
   "cell_type": "markdown",
   "metadata": {
    "collapsed": false
   },
   "source": [
    "### Closing Sentence"
   ]
  },
  {
   "cell_type": "code",
   "execution_count": 7,
   "metadata": {
    "collapsed": false
   },
   "outputs": [
    {
     "name": "stdout",
     "output_type": "stream",
     "text": [
      "His grade for the semester is a C-.\n"
     ]
    }
   ],
   "source": [
    "def closing(student):#function takes in a student and returns the closing sentence\n",
    "    grade = student[-1]\n",
    "    ret = \"\"\n",
    "    if grade[0].upper() == \"A\" or grade[0].upper() == \"F\" or grade[0].upper() == \"E\":\n",
    "        ret = student[3].title() + \" grade for the semester is an \" + grade.upper() + \".\"\n",
    "    elif grade[0].upper() == \"B\" or grade[0].upper() == \"C\" or grade[0].upper() == \"D\":\n",
    "        ret = student[3].title() + \" grade for the semester is a \" + grade.upper() + \".\"\n",
    "    return(ret)\n",
    "print(closing(students[-1]))"
   ]
  },
  {
   "cell_type": "markdown",
   "metadata": {
    "collapsed": false
   },
   "source": [
    "### Function to Write Separate Text File for Each Students\n",
    "This function will call above functions and write a text file"
   ]
  },
  {
   "cell_type": "code",
   "execution_count": 8,
   "metadata": {
    "collapsed": false
   },
   "outputs": [
   ],
   "source": [
    "#Warning: When you run this function, all the comments in the file will be replaced by new comments\n",
    "\n",
    "def writeComment(s): #Take Input as a list of \"Single\" student\n",
    "    #Non-return funtion which write text file\n",
    "    fileName = s[0].lower()+\".txt\"\n",
    "    with open(fileName,\"w\") as fpt:\n",
    "        #Opening Sentence\n",
    "        st = opening(s[0],s[1],s[4],s[6],s[5])\n",
    "        fpt.write(st+\" \")\n",
    "        #Improvement\n",
    "        st = improvement(improvement_scale, s)\n",
    "        fpt.write(st+\" \")\n",
    "        #Attribute\n",
    "        st = genAttribute(s[0],s[2],s[3],s[13],s[14])\n",
    "        fpt.write(st+\" \")\n",
    "        #Assessment\n",
    "        if(s[9]!=\"\"):\n",
    "            st = genAssessmentComment(s[0],s[2],s[9],s[10],1)\n",
    "            fpt.write(st+\" \")\n",
    "        if(s[11]!=\"\"):\n",
    "            st = genAssessmentComment(s[0],s[2],s[11],s[12],2)\n",
    "            fpt.write(st+\" \")\n",
    "        #Pre-Closing\n",
    "        st = pre_closing(s)\n",
    "        fpt.write(st+\" \")\n",
    "        #Closing\n",
    "        st = closing(s)\n",
    "        fpt.write(st+\" \")"
   ]
  },
  {
   "cell_type": "markdown",
   "metadata": {
    "collapsed": false
   },
   "source": [
    "# Main Function\n",
    "Run this (after you import csv file) and everything will be ok."
   ]
  },
  {
   "cell_type": "code",
   "execution_count": 9,
   "metadata": {
    "collapsed": false
   },
   "outputs": [
    {
     "name": "stdout",
     "output_type": "stream",
     "text": [
      "Done!\n"
     ]
    }
   ],
   "source": [
    "#Warning: When you run this function, all the comments in the file will be replaced by new comments\n",
    "def writeEverything():\n",
    "    for s in students:\n",
    "        writeComment(s)\n",
    "    print(\"Done!\")\n",
    "    \n",
    "writeEverything()"
   ]
  },
  {
   "cell_type": "code",
   "execution_count": 0,
   "metadata": {
    "collapsed": false
   },
   "outputs": [
   ],
   "source": [
   ]
  }
 ],
 "metadata": {
  "kernelspec": {
   "display_name": "Python 3 (Anaconda)",
   "language": "python",
   "name": "anaconda3"
  },
  "language_info": {
   "codemirror_mode": {
    "name": "ipython",
    "version": 3
   },
   "file_extension": ".py",
   "mimetype": "text/x-python",
   "name": "python",
   "nbconvert_exporter": "python",
   "pygments_lexer": "ipython3",
   "version": "3.5.4"
  }
 },
 "nbformat": 4,
 "nbformat_minor": 0
}